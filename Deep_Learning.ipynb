{
  "nbformat": 4,
  "nbformat_minor": 0,
  "metadata": {
    "colab": {
      "name": "Deep Learning.ipynb",
      "provenance": [],
      "collapsed_sections": [],
      "authorship_tag": "ABX9TyPqp7BeK9BZf0qnuZfh38X+",
      "include_colab_link": true
    },
    "kernelspec": {
      "name": "python3",
      "display_name": "Python 3"
    }
  },
  "cells": [
    {
      "cell_type": "markdown",
      "metadata": {
        "id": "view-in-github",
        "colab_type": "text"
      },
      "source": [
        "<a href=\"https://colab.research.google.com/github/Muhammad-Usama-07/Deep-Learning-in-Practice/blob/master/Deep_Learning.ipynb\" target=\"_parent\"><img src=\"https://colab.research.google.com/assets/colab-badge.svg\" alt=\"Open In Colab\"/></a>"
      ]
    },
    {
      "cell_type": "code",
      "metadata": {
        "id": "sJ014kKL1vyg",
        "colab_type": "code",
        "colab": {}
      },
      "source": [
        "# Now Working in MNIST Data set with digit recognization"
      ],
      "execution_count": 0,
      "outputs": []
    },
    {
      "cell_type": "code",
      "metadata": {
        "id": "npCDHUWM33EL",
        "colab_type": "code",
        "colab": {}
      },
      "source": [
        "from tensorflow.keras.datasets import mnist"
      ],
      "execution_count": 0,
      "outputs": []
    },
    {
      "cell_type": "code",
      "metadata": {
        "id": "qNFQZUfG4Voz",
        "colab_type": "code",
        "colab": {
          "base_uri": "https://localhost:8080/",
          "height": 50
        },
        "outputId": "e24e47f8-a178-4c31-c2de-a5b0772568cb"
      },
      "source": [
        "(train_image, train_labels), (test_image, test_labels) = mnist.load_data()"
      ],
      "execution_count": 3,
      "outputs": [
        {
          "output_type": "stream",
          "text": [
            "Downloading data from https://storage.googleapis.com/tensorflow/tf-keras-datasets/mnist.npz\n",
            "11493376/11490434 [==============================] - 0s 0us/step\n"
          ],
          "name": "stdout"
        }
      ]
    },
    {
      "cell_type": "code",
      "metadata": {
        "id": "acxWZeeU6CwT",
        "colab_type": "code",
        "colab": {
          "base_uri": "https://localhost:8080/",
          "height": 34
        },
        "outputId": "727e9d56-2091-4639-f9ed-ce1754dca264"
      },
      "source": [
        "train_image.shape"
      ],
      "execution_count": 6,
      "outputs": [
        {
          "output_type": "execute_result",
          "data": {
            "text/plain": [
              "(60000, 28, 28)"
            ]
          },
          "metadata": {
            "tags": []
          },
          "execution_count": 6
        }
      ]
    },
    {
      "cell_type": "code",
      "metadata": {
        "id": "IQEb8wAr60Jk",
        "colab_type": "code",
        "colab": {
          "base_uri": "https://localhost:8080/",
          "height": 34
        },
        "outputId": "da24980e-62b3-4fdc-888c-6019dfabb0d9"
      },
      "source": [
        "train_labels.shape"
      ],
      "execution_count": 8,
      "outputs": [
        {
          "output_type": "execute_result",
          "data": {
            "text/plain": [
              "(60000,)"
            ]
          },
          "metadata": {
            "tags": []
          },
          "execution_count": 8
        }
      ]
    },
    {
      "cell_type": "code",
      "metadata": {
        "id": "iG_6kBVNIzD0",
        "colab_type": "code",
        "colab": {
          "base_uri": "https://localhost:8080/",
          "height": 34
        },
        "outputId": "dc021509-7b1a-4d0d-e218-fa9a10faa4f8"
      },
      "source": [
        "test_image.shape"
      ],
      "execution_count": 9,
      "outputs": [
        {
          "output_type": "execute_result",
          "data": {
            "text/plain": [
              "(10000, 28, 28)"
            ]
          },
          "metadata": {
            "tags": []
          },
          "execution_count": 9
        }
      ]
    },
    {
      "cell_type": "code",
      "metadata": {
        "id": "odRdGd8uI79c",
        "colab_type": "code",
        "colab": {
          "base_uri": "https://localhost:8080/",
          "height": 34
        },
        "outputId": "3c191e44-a288-4309-c296-19a8f27373ba"
      },
      "source": [
        "test_labels.shape"
      ],
      "execution_count": 10,
      "outputs": [
        {
          "output_type": "execute_result",
          "data": {
            "text/plain": [
              "(10000,)"
            ]
          },
          "metadata": {
            "tags": []
          },
          "execution_count": 10
        }
      ]
    },
    {
      "cell_type": "code",
      "metadata": {
        "id": "BajJNTBII-Re",
        "colab_type": "code",
        "colab": {
          "base_uri": "https://localhost:8080/",
          "height": 50
        },
        "outputId": "bda2cee5-dbc0-4d9f-e937-353d5a302070"
      },
      "source": [
        "train_imgae_len = str(len(train_image))\n",
        "test_imgae_len = str(len(test_image))\n",
        "print(\"Lenght of train_images: \"+train_imgae_len+\"\\nLenght of test_images: \"+test_imgae_len)\n"
      ],
      "execution_count": 14,
      "outputs": [
        {
          "output_type": "stream",
          "text": [
            "Lenght of train_images: 60000\n",
            "Lenght of test_images: 10000\n"
          ],
          "name": "stdout"
        }
      ]
    },
    {
      "cell_type": "code",
      "metadata": {
        "id": "dnP1WN3SJcK3",
        "colab_type": "code",
        "colab": {}
      },
      "source": [
        "# Now Creating Model"
      ],
      "execution_count": 0,
      "outputs": []
    },
    {
      "cell_type": "code",
      "metadata": {
        "id": "vCYdu3VyLdZT",
        "colab_type": "code",
        "colab": {}
      },
      "source": [
        "from tensorflow.keras import models\n",
        "from tensorflow.keras import layers\n"
      ],
      "execution_count": 0,
      "outputs": []
    },
    {
      "cell_type": "code",
      "metadata": {
        "id": "EjG6DZVwMh-v",
        "colab_type": "code",
        "colab": {}
      },
      "source": [
        "# Using Sequential Moduling\n",
        "\n",
        "network = models.Sequential()\n",
        "network.add(layers.Dense(512, activation='relu', input_shape=(28*28,)))\n",
        "network.add(layers.Dense(1, activation='softmax'))"
      ],
      "execution_count": 0,
      "outputs": []
    },
    {
      "cell_type": "code",
      "metadata": {
        "id": "67b0-1SdNBc_",
        "colab_type": "code",
        "colab": {}
      },
      "source": [
        "# Now Compliation Step\n",
        "\n",
        "network.compile(optimizer='rmsprop', loss='categorical_crossentropy', metrics={'accuracy'})"
      ],
      "execution_count": 0,
      "outputs": []
    },
    {
      "cell_type": "code",
      "metadata": {
        "id": "qpFFID_7Oixv",
        "colab_type": "code",
        "colab": {
          "base_uri": "https://localhost:8080/",
          "height": 34
        },
        "outputId": "626486b6-6a1c-42b0-d7b4-2e63a39caaf3"
      },
      "source": [
        "# Now Prepering Image data\n",
        " train_images = train_image.reshape(60000, 28*28)\n",
        " train_images = train_image.astype('float32')/255"
      ],
      "execution_count": 39,
      "outputs": [
        {
          "output_type": "stream",
          "text": [
            "(60000, 28, 28)\n"
          ],
          "name": "stdout"
        }
      ]
    },
    {
      "cell_type": "code",
      "metadata": {
        "id": "mptSt4fkPslw",
        "colab_type": "code",
        "colab": {}
      },
      "source": [
        "# Now prepering test data\n",
        "\n",
        "test_images = test_image.reshape(10000, 28*28)\n",
        "test_images = test_image.astype('float32')/255"
      ],
      "execution_count": 0,
      "outputs": []
    },
    {
      "cell_type": "code",
      "metadata": {
        "id": "0hqJtwzVQO_3",
        "colab_type": "code",
        "colab": {}
      },
      "source": [
        "# Now Prepering Labels\n",
        "from tensorflow.keras.utils import to_categorical\n",
        "train_labels2 = to_categorical(train_labels)\n",
        "test_labels2 = to_categorical(test_labels)"
      ],
      "execution_count": 0,
      "outputs": []
    },
    {
      "cell_type": "code",
      "metadata": {
        "id": "FZ-3y2FWQ6GV",
        "colab_type": "code",
        "colab": {
          "base_uri": "https://localhost:8080/",
          "height": 84
        },
        "outputId": "62cfe955-c0e5-438c-d993-23119e244b28"
      },
      "source": [
        "before_ti = str(train_image.shape)\n",
        "after_ti = str(train_images.shape)\n",
        "before_testi = str(test_image.shape)\n",
        "after_testi = str(test_images.shape)\n",
        "print(\"Shape of train images before preproccessing: \"+before_ti\n",
        "      +\"\\nShape of train images After preproccessing: \"+after_ti\n",
        "      +\"\\nShape of test images before preproccessing: \"+before_testi\n",
        "      +\"\\nShape of test images After preproccessing:\"+after_testi)"
      ],
      "execution_count": 40,
      "outputs": [
        {
          "output_type": "stream",
          "text": [
            "Shape of train images before preproccessing: (60000, 28, 28)\n",
            "Shape of train images After preproccessing: (60000, 28, 28)\n",
            "Shape of test images before preproccessing: (10000, 28, 28)\n",
            "Shape of test images After preproccessing:(10000, 28, 28)\n"
          ],
          "name": "stdout"
        }
      ]
    },
    {
      "cell_type": "code",
      "metadata": {
        "id": "clhRW4rRStv3",
        "colab_type": "code",
        "colab": {}
      },
      "source": [
        ""
      ],
      "execution_count": 0,
      "outputs": []
    }
  ]
}